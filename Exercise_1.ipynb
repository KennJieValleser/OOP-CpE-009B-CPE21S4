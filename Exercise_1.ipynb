{
  "nbformat": 4,
  "nbformat_minor": 0,
  "metadata": {
    "colab": {
      "provenance": [],
      "authorship_tag": "ABX9TyNCUe3ZurcsUrIIuAYSE3HO",
      "include_colab_link": true
    },
    "kernelspec": {
      "name": "python3",
      "display_name": "Python 3"
    },
    "language_info": {
      "name": "python"
    }
  },
  "cells": [
    {
      "cell_type": "markdown",
      "metadata": {
        "id": "view-in-github",
        "colab_type": "text"
      },
      "source": [
        "<a href=\"https://colab.research.google.com/github/KennJieValleser/OOP-CpE-009B-CPE21S4/blob/main/Exercise_1.ipynb\" target=\"_parent\"><img src=\"https://colab.research.google.com/assets/colab-badge.svg\" alt=\"Open In Colab\"/></a>"
      ]
    },
    {
      "cell_type": "markdown",
      "source": [
        "# **Exercise**"
      ],
      "metadata": {
        "id": "y3jsbXLBTxZd"
      }
    },
    {
      "cell_type": "code",
      "execution_count": 38,
      "metadata": {
        "colab": {
          "base_uri": "https://localhost:8080/"
        },
        "id": "EEcPPBjhCT1_",
        "outputId": "a72d77bf-a8f3-4cc8-edd4-42194bd49c9f"
      },
      "outputs": [
        {
          "output_type": "stream",
          "name": "stdout",
          "text": [
            "My name is Ana and with an age of 19 and birthdate of January 3, 2005\n",
            "My name is Mark and with an age of 19 and birthdate of April 4, 2004\n",
            "My name is Ana and with an age of 19 and birthdate of January 3, 2005 and my fav color is Blue\n"
          ]
        }
      ],
      "source": [
        "#Class Constructor\n",
        "class Person:\n",
        "  def __init__(self, name, age, birthdate):\n",
        "    self.name = name\n",
        "    self.age = age\n",
        "    self.birthdate = birthdate #defining attributes and identity\n",
        "  def person_attribute(self):\n",
        "    return (f\"My name is {self.name} and with an age of {self.age} and birthdate of {self.birthdate}\")\n",
        "\n",
        "class Teacher(Person): #subclass constructor\n",
        "  pass\n",
        "class Student(Teacher):\n",
        "  pass\n",
        "class Color(Student):\n",
        "  def __init__(self, name, age, birthdate,color):\n",
        "    super().__init__(name, age, birthdate)\n",
        "    self.color = color\n",
        "  def person_attribute(self):\n",
        "    return (f\"My name is {self.name} and with an age of {self.age} and birthdate of {self.birthdate} and my fav color is {self.color}\")\n",
        "#object instantiation\n",
        "person = Person(\"Ana\", 19,\"January 3, 2005\")#behavior/instance of a classs\n",
        "print(person.person_attribute())\n",
        "student=Student(\"Mark\", 19,\"April 4, 2004\")\n",
        "print(student.person_attribute())\n",
        "teacher=Teacher(\"Mam Sayo\", 40, \"June 24, 1983\")\n",
        "print(teacher.person_attribute())\n",
        "color = Color (\"Ana\", 19,\"January 3, 2005\",\"Blue\")\n",
        "print(color.person_attribute())"
      ]
    },
    {
      "cell_type": "markdown",
      "source": [
        "# **Challenge 1**"
      ],
      "metadata": {
        "id": "JkaLIDddT1KU"
      }
    },
    {
      "cell_type": "code",
      "source": [
        "class Shapes:\n",
        "  def __init__(self, side):\n",
        "    self.side = side\n",
        "\n",
        "class Rectangle(Shapes):\n",
        "  def __init__(self, side, length, width):\n",
        "    super().__init__(side)\n",
        "    self.length = length\n",
        "    self.width = width\n",
        "  def area(self):\n",
        "    return self.length * self.width\n",
        "  def perimeter(self):\n",
        "    return 2 * (self.length + self.width)\n",
        "\n",
        "class Square(Shapes):\n",
        "  def area(self):\n",
        "    return self.side ** 2\n",
        "  def perimeter(self):\n",
        "    return 4 * self.side\n",
        "\n",
        "rectangle=Rectangle(0,10,3)\n",
        "print(rectangle.area())\n",
        "print(rectangle.perimeter())\n",
        "\n",
        "square=Square(5)\n",
        "print(square.area())\n",
        "print(square.perimeter())"
      ],
      "metadata": {
        "colab": {
          "base_uri": "https://localhost:8080/"
        },
        "id": "A7p64_4cbtOO",
        "outputId": "e08e2f23-4451-4224-b6d8-a3d6b70de07f"
      },
      "execution_count": 52,
      "outputs": [
        {
          "output_type": "stream",
          "name": "stdout",
          "text": [
            "30\n",
            "26\n",
            "25\n",
            "20\n"
          ]
        }
      ]
    }
  ]
}